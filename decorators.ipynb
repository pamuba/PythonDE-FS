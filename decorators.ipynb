{
  "metadata": {
    "kernelspec": {
      "name": "python",
      "display_name": "Python (Pyodide)",
      "language": "python"
    },
    "language_info": {
      "codemirror_mode": {
        "name": "python",
        "version": 3
      },
      "file_extension": ".py",
      "mimetype": "text/x-python",
      "name": "python",
      "nbconvert_exporter": "python",
      "pygments_lexer": "ipython3",
      "version": "3.8"
    }
  },
  "nbformat_minor": 4,
  "nbformat": 4,
  "cells": [
    {
      "cell_type": "code",
      "source": "def counter(fn):\n    count = 0\n    def inner(*args, **kwargs):\n        nonlocal count\n        count += 1\n        print('Function {0} (id={1}) was called {2} times'.format(fn.__name__, id(fn), count))\n        inner.__doc__ = fn.__doc__\n        inner.name__ = fn.__name__\n        return fn(*args, **kwargs)\n    return inner",
      "metadata": {
        "trusted": true
      },
      "outputs": [],
      "execution_count": 77
    },
    {
      "cell_type": "code",
      "source": "def add(a:int, b:int=0):\n    \"\"\"\n        adds two numbers\n    \"\"\"\n    return a+ b",
      "metadata": {
        "trusted": true
      },
      "outputs": [],
      "execution_count": 78
    },
    {
      "cell_type": "code",
      "source": "help(add)",
      "metadata": {
        "trusted": true
      },
      "outputs": [
        {
          "name": "stdout",
          "text": "Help on function add in module __main__:\n\nadd(a: int, b: int = 0)\n    adds two numbers\n\n",
          "output_type": "stream"
        }
      ],
      "execution_count": 79
    },
    {
      "cell_type": "code",
      "source": "add = counter(add)",
      "metadata": {
        "trusted": true
      },
      "outputs": [],
      "execution_count": 80
    },
    {
      "cell_type": "code",
      "source": "id(add)",
      "metadata": {
        "trusted": true
      },
      "outputs": [
        {
          "execution_count": 81,
          "output_type": "execute_result",
          "data": {
            "text/plain": "24860584"
          },
          "metadata": {}
        }
      ],
      "execution_count": 81
    },
    {
      "cell_type": "code",
      "source": "id(add)",
      "metadata": {
        "trusted": true
      },
      "outputs": [
        {
          "execution_count": 82,
          "output_type": "execute_result",
          "data": {
            "text/plain": "24860584"
          },
          "metadata": {}
        }
      ],
      "execution_count": 82
    },
    {
      "cell_type": "code",
      "source": "help(add)",
      "metadata": {
        "trusted": true
      },
      "outputs": [
        {
          "name": "stdout",
          "text": "Help on function inner in module __main__:\n\ninner(*args, **kwargs)\n\n",
          "output_type": "stream"
        }
      ],
      "execution_count": 83
    },
    {
      "cell_type": "code",
      "source": "add(10,20)",
      "metadata": {
        "trusted": true
      },
      "outputs": [
        {
          "name": "stdout",
          "text": "Function add (id=40985832) was called 1 times\n",
          "output_type": "stream"
        },
        {
          "execution_count": 84,
          "output_type": "execute_result",
          "data": {
            "text/plain": "30"
          },
          "metadata": {}
        }
      ],
      "execution_count": 84
    },
    {
      "cell_type": "code",
      "source": "@counter\ndef my_func(s:str, i:int) -> str:\n    \"\"\"returns multiples of the input\"\"\"\n    return s*i\n\n\n# my_func = counter(my_func)",
      "metadata": {
        "trusted": true
      },
      "outputs": [],
      "execution_count": 102
    },
    {
      "cell_type": "code",
      "source": "help(my_func)",
      "metadata": {
        "trusted": true
      },
      "outputs": [
        {
          "name": "stdout",
          "text": "Help on function inner in module __main__:\n\ninner(*args, **kwargs)\n\n",
          "output_type": "stream"
        }
      ],
      "execution_count": 103
    },
    {
      "cell_type": "code",
      "source": "my_func('a', 10)",
      "metadata": {
        "trusted": true
      },
      "outputs": [
        {
          "name": "stdout",
          "text": "Function my_func (id=33131352) was called 1 times\n",
          "output_type": "stream"
        },
        {
          "execution_count": 104,
          "output_type": "execute_result",
          "data": {
            "text/plain": "'aaaaaaaaaa'"
          },
          "metadata": {}
        }
      ],
      "execution_count": 104
    },
    {
      "cell_type": "code",
      "source": "help(my_func)",
      "metadata": {
        "trusted": true
      },
      "outputs": [
        {
          "name": "stdout",
          "text": "Help on function inner in module __main__:\n\ninner(*args, **kwargs)\n    returns multiples of the input\n\n",
          "output_type": "stream"
        }
      ],
      "execution_count": 105
    },
    {
      "cell_type": "code",
      "source": "my_func.__name__",
      "metadata": {
        "trusted": true
      },
      "outputs": [
        {
          "execution_count": 106,
          "output_type": "execute_result",
          "data": {
            "text/plain": "'inner'"
          },
          "metadata": {}
        }
      ],
      "execution_count": 106
    },
    {
      "cell_type": "code",
      "source": "my_func.__doc__\n",
      "metadata": {
        "trusted": true
      },
      "outputs": [
        {
          "execution_count": 107,
          "output_type": "execute_result",
          "data": {
            "text/plain": "'returns multiples of the input'"
          },
          "metadata": {}
        }
      ],
      "execution_count": 107
    },
    {
      "cell_type": "code",
      "source": "help(my_func)",
      "metadata": {
        "trusted": true
      },
      "outputs": [
        {
          "name": "stdout",
          "text": "Help on function inner in module __main__:\n\ninner(*args, **kwargs)\n    returns multiples of the input\n\n",
          "output_type": "stream"
        }
      ],
      "execution_count": 108
    },
    {
      "cell_type": "code",
      "source": "help(my_func)",
      "metadata": {
        "trusted": true
      },
      "outputs": [
        {
          "name": "stdout",
          "text": "Help on function inner in module __main__:\n\ninner(*args, **kwargs)\n    returns multiples of the input\n\n",
          "output_type": "stream"
        }
      ],
      "execution_count": 109
    },
    {
      "cell_type": "code",
      "source": "from functools import wraps",
      "metadata": {
        "trusted": true
      },
      "outputs": [],
      "execution_count": 110
    },
    {
      "cell_type": "code",
      "source": "def counter(fn):\n    count = 0\n    # @wraps(fn)\n    def inner(*args, **kwargs):\n        nonlocal count\n        count += 1\n        print('Function {0} (id={1}) was called {2} times'.format(fn.__name__, id(fn), count))\n        return fn(*args, **kwargs)\n    inner = wraps(fn)(inner)        \n    return inner",
      "metadata": {
        "trusted": true
      },
      "outputs": [],
      "execution_count": 111
    },
    {
      "cell_type": "code",
      "source": "@counter\ndef my_func(s:str, i:int) -> str:\n    \"\"\"returns multiples of the input\"\"\"\n    return s*i\n\n\n# my_func = counter(my_func)",
      "metadata": {
        "trusted": true
      },
      "outputs": [],
      "execution_count": 112
    },
    {
      "cell_type": "code",
      "source": "help(my_func)",
      "metadata": {
        "trusted": true
      },
      "outputs": [
        {
          "name": "stdout",
          "text": "Help on function my_func in module __main__:\n\nmy_func(s: str, i: int) -> str\n    returns multiples of the input\n\n",
          "output_type": "stream"
        }
      ],
      "execution_count": 115
    },
    {
      "cell_type": "code",
      "source": "my_func = counter(my_func)",
      "metadata": {
        "trusted": true
      },
      "outputs": [],
      "execution_count": 114
    },
    {
      "cell_type": "code",
      "source": "def fib(n):\n    print('Calculating fib({0})'.format(n))\n    return 1 if n < 3 else fib(n-1) + fib(n-2)\n\n\n# 10\n# fib(9) + fib(8)\n# 9\n# fib(8) + fib(7)\n# ....\n\n# ....\n\n# 4\n# 5 + 3\n# 3\n# 2 + 1\n# 2\n# 1\n",
      "metadata": {
        "trusted": true
      },
      "outputs": [],
      "execution_count": 120
    },
    {
      "cell_type": "code",
      "source": "fib(10)",
      "metadata": {
        "trusted": true
      },
      "outputs": [
        {
          "name": "stdout",
          "text": "Calculating fib(10)\nCalculating fib(9)\nCalculating fib(8)\nCalculating fib(7)\nCalculating fib(6)\nCalculating fib(5)\nCalculating fib(4)\nCalculating fib(3)\nCalculating fib(2)\nCalculating fib(1)\nCalculating fib(2)\nCalculating fib(3)\nCalculating fib(2)\nCalculating fib(1)\nCalculating fib(4)\nCalculating fib(3)\nCalculating fib(2)\nCalculating fib(1)\nCalculating fib(2)\nCalculating fib(5)\nCalculating fib(4)\nCalculating fib(3)\nCalculating fib(2)\nCalculating fib(1)\nCalculating fib(2)\nCalculating fib(3)\nCalculating fib(2)\nCalculating fib(1)\nCalculating fib(6)\nCalculating fib(5)\nCalculating fib(4)\nCalculating fib(3)\nCalculating fib(2)\nCalculating fib(1)\nCalculating fib(2)\nCalculating fib(3)\nCalculating fib(2)\nCalculating fib(1)\nCalculating fib(4)\nCalculating fib(3)\nCalculating fib(2)\nCalculating fib(1)\nCalculating fib(2)\nCalculating fib(7)\nCalculating fib(6)\nCalculating fib(5)\nCalculating fib(4)\nCalculating fib(3)\nCalculating fib(2)\nCalculating fib(1)\nCalculating fib(2)\nCalculating fib(3)\nCalculating fib(2)\nCalculating fib(1)\nCalculating fib(4)\nCalculating fib(3)\nCalculating fib(2)\nCalculating fib(1)\nCalculating fib(2)\nCalculating fib(5)\nCalculating fib(4)\nCalculating fib(3)\nCalculating fib(2)\nCalculating fib(1)\nCalculating fib(2)\nCalculating fib(3)\nCalculating fib(2)\nCalculating fib(1)\nCalculating fib(8)\nCalculating fib(7)\nCalculating fib(6)\nCalculating fib(5)\nCalculating fib(4)\nCalculating fib(3)\nCalculating fib(2)\nCalculating fib(1)\nCalculating fib(2)\nCalculating fib(3)\nCalculating fib(2)\nCalculating fib(1)\nCalculating fib(4)\nCalculating fib(3)\nCalculating fib(2)\nCalculating fib(1)\nCalculating fib(2)\nCalculating fib(5)\nCalculating fib(4)\nCalculating fib(3)\nCalculating fib(2)\nCalculating fib(1)\nCalculating fib(2)\nCalculating fib(3)\nCalculating fib(2)\nCalculating fib(1)\nCalculating fib(6)\nCalculating fib(5)\nCalculating fib(4)\nCalculating fib(3)\nCalculating fib(2)\nCalculating fib(1)\nCalculating fib(2)\nCalculating fib(3)\nCalculating fib(2)\nCalculating fib(1)\nCalculating fib(4)\nCalculating fib(3)\nCalculating fib(2)\nCalculating fib(1)\nCalculating fib(2)\n",
          "output_type": "stream"
        },
        {
          "execution_count": 121,
          "output_type": "execute_result",
          "data": {
            "text/plain": "55"
          },
          "metadata": {}
        }
      ],
      "execution_count": 121
    },
    {
      "cell_type": "code",
      "source": "class Fib:\n    def __init__(self):\n        self.cache = {1:1, 2:1}\n    def fib(self, n):\n        if n not in self.cache:\n            print('Calculating fib({0})'.format(n))\n            self.cache[n] = self.fib(n-1) + self.fib(n-2)\n        return self.cache[n]",
      "metadata": {
        "trusted": true
      },
      "outputs": [],
      "execution_count": 122
    },
    {
      "cell_type": "code",
      "source": "f = Fib()",
      "metadata": {
        "trusted": true
      },
      "outputs": [],
      "execution_count": 123
    },
    {
      "cell_type": "code",
      "source": "f.fib(10)",
      "metadata": {
        "trusted": true
      },
      "outputs": [
        {
          "name": "stdout",
          "text": "Calculating fib(10)\nCalculating fib(9)\nCalculating fib(8)\nCalculating fib(7)\nCalculating fib(6)\nCalculating fib(5)\nCalculating fib(4)\nCalculating fib(3)\n",
          "output_type": "stream"
        },
        {
          "execution_count": 124,
          "output_type": "execute_result",
          "data": {
            "text/plain": "55"
          },
          "metadata": {}
        }
      ],
      "execution_count": 124
    },
    {
      "cell_type": "code",
      "source": "def memoize_fib(fib):\n    cache = {1:1, 2:1}\n    def inner(n):\n        if n not in cache:\n            cache[n] = fib(n)\n        return cache[n]\n    return inner\n        ",
      "metadata": {
        "trusted": true
      },
      "outputs": [],
      "execution_count": 129
    },
    {
      "cell_type": "code",
      "source": "@memoize_fib\ndef fib(n):\n    print('Calculating fib({0})'.format(n))  \n    return 1 if n < 3 else fib(n-1) + fib(n-2)\n\n# fib = memoize_fib(fib)\n    ",
      "metadata": {
        "trusted": true
      },
      "outputs": [],
      "execution_count": 130
    },
    {
      "cell_type": "code",
      "source": "fib(10)",
      "metadata": {
        "trusted": true
      },
      "outputs": [
        {
          "name": "stdout",
          "text": "Calculating fib(10)\nCalculating fib(9)\nCalculating fib(8)\nCalculating fib(7)\nCalculating fib(6)\nCalculating fib(5)\nCalculating fib(4)\nCalculating fib(3)\n",
          "output_type": "stream"
        },
        {
          "execution_count": 131,
          "output_type": "execute_result",
          "data": {
            "text/plain": "55"
          },
          "metadata": {}
        }
      ],
      "execution_count": 131
    },
    {
      "cell_type": "code",
      "source": "# Decorators logging, stack decorators, Decorating classes, Decorator Factories, Named Tuble\n# Modules, Packages, Namespaces\n#imports VS importlib",
      "metadata": {
        "trusted": true
      },
      "outputs": [],
      "execution_count": null
    }
  ]
}